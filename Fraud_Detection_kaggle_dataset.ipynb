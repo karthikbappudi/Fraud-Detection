{
  "nbformat": 4,
  "nbformat_minor": 0,
  "metadata": {
    "colab": {
      "name": "Fraud_Detection.ipynb",
      "version": "0.3.2",
      "provenance": [],
      "include_colab_link": true
    },
    "kernelspec": {
      "name": "python3",
      "display_name": "Python 3"
    }
  },
  "cells": [
    {
      "cell_type": "markdown",
      "metadata": {
        "id": "view-in-github",
        "colab_type": "text"
      },
      "source": [
        "<a href=\"https://colab.research.google.com/github/karthikbappudi/Fraud-Detection/blob/master/Fraud_Detection_kaggle_dataset.ipynb\" target=\"_parent\"><img src=\"https://colab.research.google.com/assets/colab-badge.svg\" alt=\"Open In Colab\"/></a>"
      ]
    },
    {
      "cell_type": "code",
      "metadata": {
        "id": "d0Ks_-6QmWCT",
        "colab_type": "code",
        "colab": {}
      },
      "source": [
        "import numpy as np\n",
        "import sklearn as sk\n",
        "import pandas as pd\n",
        "import matplotlib.pyplot as plt\n",
        "from sklearn.preprocessing import scale\n",
        "import random\n",
        "import os\n"
      ],
      "execution_count": 0,
      "outputs": []
    },
    {
      "cell_type": "markdown",
      "metadata": {
        "id": "KvQzGsFzmeiV",
        "colab_type": "text"
      },
      "source": [
        "Explore the datasets/Visualize\n",
        "Decide which feature are important\n",
        "Perform ml\n",
        "tet the method"
      ]
    },
    {
      "cell_type": "code",
      "metadata": {
        "id": "57MComyfob2Z",
        "colab_type": "code",
        "colab": {
          "base_uri": "https://localhost:8080/",
          "height": 728
        },
        "outputId": "e74bee6b-06d3-4f07-e36b-85a4be51d799"
      },
      "source": [
        "df = pd.read_csv('creditcard.csv')\n",
        "df.columns, df.info()"
      ],
      "execution_count": 16,
      "outputs": [
        {
          "output_type": "stream",
          "text": [
            "<class 'pandas.core.frame.DataFrame'>\n",
            "RangeIndex: 284807 entries, 0 to 284806\n",
            "Data columns (total 31 columns):\n",
            "Time      284807 non-null float64\n",
            "V1        284807 non-null float64\n",
            "V2        284807 non-null float64\n",
            "V3        284807 non-null float64\n",
            "V4        284807 non-null float64\n",
            "V5        284807 non-null float64\n",
            "V6        284807 non-null float64\n",
            "V7        284807 non-null float64\n",
            "V8        284807 non-null float64\n",
            "V9        284807 non-null float64\n",
            "V10       284807 non-null float64\n",
            "V11       284807 non-null float64\n",
            "V12       284807 non-null float64\n",
            "V13       284807 non-null float64\n",
            "V14       284807 non-null float64\n",
            "V15       284807 non-null float64\n",
            "V16       284807 non-null float64\n",
            "V17       284807 non-null float64\n",
            "V18       284807 non-null float64\n",
            "V19       284807 non-null float64\n",
            "V20       284807 non-null float64\n",
            "V21       284807 non-null float64\n",
            "V22       284807 non-null float64\n",
            "V23       284807 non-null float64\n",
            "V24       284807 non-null float64\n",
            "V25       284807 non-null float64\n",
            "V26       284807 non-null float64\n",
            "V27       284807 non-null float64\n",
            "V28       284807 non-null float64\n",
            "Amount    284807 non-null float64\n",
            "Class     284807 non-null int64\n",
            "dtypes: float64(30), int64(1)\n",
            "memory usage: 67.4 MB\n"
          ],
          "name": "stdout"
        },
        {
          "output_type": "execute_result",
          "data": {
            "text/plain": [
              "(Index(['Time', 'V1', 'V2', 'V3', 'V4', 'V5', 'V6', 'V7', 'V8', 'V9', 'V10',\n",
              "        'V11', 'V12', 'V13', 'V14', 'V15', 'V16', 'V17', 'V18', 'V19', 'V20',\n",
              "        'V21', 'V22', 'V23', 'V24', 'V25', 'V26', 'V27', 'V28', 'Amount',\n",
              "        'Class'],\n",
              "       dtype='object'), None)"
            ]
          },
          "metadata": {
            "tags": []
          },
          "execution_count": 16
        }
      ]
    },
    {
      "cell_type": "code",
      "metadata": {
        "id": "TQX_Q8iiYRCa",
        "colab_type": "code",
        "colab": {
          "base_uri": "https://localhost:8080/",
          "height": 35
        },
        "outputId": "065bfb7e-4585-44fa-862e-2991c4b6371b"
      },
      "source": [
        "len(X_train)+len(X_valid)+len(X_test),len(x)"
      ],
      "execution_count": 29,
      "outputs": [
        {
          "output_type": "execute_result",
          "data": {
            "text/plain": [
              "(284807, 284807)"
            ]
          },
          "metadata": {
            "tags": []
          },
          "execution_count": 29
        }
      ]
    },
    {
      "cell_type": "code",
      "metadata": {
        "id": "p2IjXf5Sup13",
        "colab_type": "code",
        "colab": {}
      },
      "source": [
        "y = df['Class']\n",
        "x = df.drop('Class', axis =1)\n",
        "\n",
        "\n"
      ],
      "execution_count": 0,
      "outputs": []
    },
    {
      "cell_type": "code",
      "metadata": {
        "id": "1WBLjRxH_dJn",
        "colab_type": "code",
        "colab": {}
      },
      "source": [
        "X = scale(x)\n"
      ],
      "execution_count": 0,
      "outputs": []
    },
    {
      "cell_type": "code",
      "metadata": {
        "id": "RP6GcS8ZUafA",
        "colab_type": "code",
        "colab": {
          "base_uri": "https://localhost:8080/",
          "height": 35
        },
        "outputId": "97e8184d-1682-43f9-c73c-bbd2bf721d66"
      },
      "source": [
        "x.shape"
      ],
      "execution_count": 20,
      "outputs": [
        {
          "output_type": "execute_result",
          "data": {
            "text/plain": [
              "(284807, 30)"
            ]
          },
          "metadata": {
            "tags": []
          },
          "execution_count": 20
        }
      ]
    },
    {
      "cell_type": "code",
      "metadata": {
        "id": "2I1hV2h_VjFi",
        "colab_type": "code",
        "colab": {
          "base_uri": "https://localhost:8080/",
          "height": 1000
        },
        "outputId": "ddab8ce5-ab5b-48c6-c42e-ac6602a6bf91"
      },
      "source": [
        "X_test = x[284407:]\n",
        "X_test.info()\n",
        "X_valid = x[284000:284407]\n",
        "X_valid.info()\n",
        "X_train = x[:284000]\n",
        "X_train.info()"
      ],
      "execution_count": 28,
      "outputs": [
        {
          "output_type": "stream",
          "text": [
            "<class 'pandas.core.frame.DataFrame'>\n",
            "RangeIndex: 400 entries, 284407 to 284806\n",
            "Data columns (total 30 columns):\n",
            "Time      400 non-null float64\n",
            "V1        400 non-null float64\n",
            "V2        400 non-null float64\n",
            "V3        400 non-null float64\n",
            "V4        400 non-null float64\n",
            "V5        400 non-null float64\n",
            "V6        400 non-null float64\n",
            "V7        400 non-null float64\n",
            "V8        400 non-null float64\n",
            "V9        400 non-null float64\n",
            "V10       400 non-null float64\n",
            "V11       400 non-null float64\n",
            "V12       400 non-null float64\n",
            "V13       400 non-null float64\n",
            "V14       400 non-null float64\n",
            "V15       400 non-null float64\n",
            "V16       400 non-null float64\n",
            "V17       400 non-null float64\n",
            "V18       400 non-null float64\n",
            "V19       400 non-null float64\n",
            "V20       400 non-null float64\n",
            "V21       400 non-null float64\n",
            "V22       400 non-null float64\n",
            "V23       400 non-null float64\n",
            "V24       400 non-null float64\n",
            "V25       400 non-null float64\n",
            "V26       400 non-null float64\n",
            "V27       400 non-null float64\n",
            "V28       400 non-null float64\n",
            "Amount    400 non-null float64\n",
            "dtypes: float64(30)\n",
            "memory usage: 93.8 KB\n",
            "<class 'pandas.core.frame.DataFrame'>\n",
            "RangeIndex: 407 entries, 284000 to 284406\n",
            "Data columns (total 30 columns):\n",
            "Time      407 non-null float64\n",
            "V1        407 non-null float64\n",
            "V2        407 non-null float64\n",
            "V3        407 non-null float64\n",
            "V4        407 non-null float64\n",
            "V5        407 non-null float64\n",
            "V6        407 non-null float64\n",
            "V7        407 non-null float64\n",
            "V8        407 non-null float64\n",
            "V9        407 non-null float64\n",
            "V10       407 non-null float64\n",
            "V11       407 non-null float64\n",
            "V12       407 non-null float64\n",
            "V13       407 non-null float64\n",
            "V14       407 non-null float64\n",
            "V15       407 non-null float64\n",
            "V16       407 non-null float64\n",
            "V17       407 non-null float64\n",
            "V18       407 non-null float64\n",
            "V19       407 non-null float64\n",
            "V20       407 non-null float64\n",
            "V21       407 non-null float64\n",
            "V22       407 non-null float64\n",
            "V23       407 non-null float64\n",
            "V24       407 non-null float64\n",
            "V25       407 non-null float64\n",
            "V26       407 non-null float64\n",
            "V27       407 non-null float64\n",
            "V28       407 non-null float64\n",
            "Amount    407 non-null float64\n",
            "dtypes: float64(30)\n",
            "memory usage: 95.5 KB\n",
            "<class 'pandas.core.frame.DataFrame'>\n",
            "RangeIndex: 284000 entries, 0 to 283999\n",
            "Data columns (total 30 columns):\n",
            "Time      284000 non-null float64\n",
            "V1        284000 non-null float64\n",
            "V2        284000 non-null float64\n",
            "V3        284000 non-null float64\n",
            "V4        284000 non-null float64\n",
            "V5        284000 non-null float64\n",
            "V6        284000 non-null float64\n",
            "V7        284000 non-null float64\n",
            "V8        284000 non-null float64\n",
            "V9        284000 non-null float64\n",
            "V10       284000 non-null float64\n",
            "V11       284000 non-null float64\n",
            "V12       284000 non-null float64\n",
            "V13       284000 non-null float64\n",
            "V14       284000 non-null float64\n",
            "V15       284000 non-null float64\n",
            "V16       284000 non-null float64\n",
            "V17       284000 non-null float64\n",
            "V18       284000 non-null float64\n",
            "V19       284000 non-null float64\n",
            "V20       284000 non-null float64\n",
            "V21       284000 non-null float64\n",
            "V22       284000 non-null float64\n",
            "V23       284000 non-null float64\n",
            "V24       284000 non-null float64\n",
            "V25       284000 non-null float64\n",
            "V26       284000 non-null float64\n",
            "V27       284000 non-null float64\n",
            "V28       284000 non-null float64\n",
            "Amount    284000 non-null float64\n",
            "dtypes: float64(30)\n",
            "memory usage: 65.0 MB\n"
          ],
          "name": "stdout"
        }
      ]
    },
    {
      "cell_type": "code",
      "metadata": {
        "id": "LuMP_8fOZCeR",
        "colab_type": "code",
        "colab": {
          "base_uri": "https://localhost:8080/",
          "height": 35
        },
        "outputId": "554124e2-0bd4-4da6-be90-05bc76d7bf9b"
      },
      "source": [
        "Y_test = y[284407:]\n",
        "Y_valid = y[284000:284407]\n",
        "\n",
        "Y_train = y[:284000]\n",
        "len(Y_train),len(Y_test),len(Y_valid)"
      ],
      "execution_count": 32,
      "outputs": [
        {
          "output_type": "execute_result",
          "data": {
            "text/plain": [
              "(284000, 400, 407)"
            ]
          },
          "metadata": {
            "tags": []
          },
          "execution_count": 32
        }
      ]
    },
    {
      "cell_type": "code",
      "metadata": {
        "id": "Qwy0toBqew0E",
        "colab_type": "code",
        "colab": {}
      },
      "source": [
        "y_test = np.array(Y_test)\n",
        "y_valid = np.array(Y_valid)\n",
        "y_train = np.array(Y_train)"
      ],
      "execution_count": 0,
      "outputs": []
    },
    {
      "cell_type": "code",
      "metadata": {
        "id": "7tIXA0vuYyAB",
        "colab_type": "code",
        "colab": {}
      },
      "source": [
        "x_train = scale(X_train)\n",
        "X"
      ],
      "execution_count": 0,
      "outputs": []
    },
    {
      "cell_type": "code",
      "metadata": {
        "id": "TKmUEu4gZ7je",
        "colab_type": "code",
        "colab": {}
      },
      "source": [
        "scale??"
      ],
      "execution_count": 0,
      "outputs": []
    },
    {
      "cell_type": "code",
      "metadata": {
        "id": "xrFcQJoQ-YHu",
        "colab_type": "code",
        "colab": {}
      },
      "source": [
        "from sklearn.preprocessing import StandardScaler\n",
        "scaler = StandardScaler()\n",
        "scaler.fit(X_train)\n",
        "x_train = scaler.transform(X_train)\n",
        "x_valid = scaler.transform(X_valid)\n",
        "x_test = scaler.transform(X_test)"
      ],
      "execution_count": 0,
      "outputs": []
    },
    {
      "cell_type": "code",
      "metadata": {
        "id": "sOuMtQ6ucoM1",
        "colab_type": "code",
        "colab": {
          "base_uri": "https://localhost:8080/",
          "height": 35
        },
        "outputId": "bfc0e5a4-c3e2-4e3f-b467-4db6bd397d6a"
      },
      "source": [
        "x_train.shape"
      ],
      "execution_count": 38,
      "outputs": [
        {
          "output_type": "execute_result",
          "data": {
            "text/plain": [
              "(284000, 30)"
            ]
          },
          "metadata": {
            "tags": []
          },
          "execution_count": 38
        }
      ]
    },
    {
      "cell_type": "code",
      "metadata": {
        "id": "J1MF3JtrUez1",
        "colab_type": "code",
        "colab": {
          "base_uri": "https://localhost:8080/",
          "height": 1000
        },
        "outputId": "cbdd0ae8-a7a1-4e4b-fc9d-b0cfbf9c5502"
      },
      "source": [
        "from keras.layers import Dense\n",
        "from keras.models import Sequential\n",
        "\n",
        "\n",
        "model = Sequential()\n",
        "model.add(Dense(64,activation ='relu',input_shape=(x_train.shape[1],)))\n",
        "model.add(Dense(64,activation='relu'))\n",
        "model.add(Dense(32,activation = 'relu'))\n",
        "model.add(Dense(1,activation='sigmoid'))\n",
        "model.compile(optimizer='rmsprop',loss='binary_crossentropy',metrics=['accuracy'])\n",
        "history = model.fit(x_train,y_train,epochs = 50, batch_size =512, validation_data=(x_valid,y_valid))"
      ],
      "execution_count": 52,
      "outputs": [
        {
          "output_type": "stream",
          "text": [
            "Train on 284000 samples, validate on 407 samples\n",
            "Epoch 1/50\n",
            "284000/284000 [==============================] - 2s 6us/step - loss: 0.0180 - acc: 0.9965 - val_loss: 5.4817e-06 - val_acc: 1.0000\n",
            "Epoch 2/50\n",
            "284000/284000 [==============================] - 1s 5us/step - loss: 0.0031 - acc: 0.9995 - val_loss: 1.7540e-04 - val_acc: 1.0000\n",
            "Epoch 3/50\n",
            "284000/284000 [==============================] - 1s 5us/step - loss: 0.0028 - acc: 0.9995 - val_loss: 4.7841e-04 - val_acc: 1.0000\n",
            "Epoch 4/50\n",
            "284000/284000 [==============================] - 1s 5us/step - loss: 0.0026 - acc: 0.9995 - val_loss: 9.0945e-05 - val_acc: 1.0000\n",
            "Epoch 5/50\n",
            "284000/284000 [==============================] - 1s 5us/step - loss: 0.0025 - acc: 0.9995 - val_loss: 4.4791e-05 - val_acc: 1.0000\n",
            "Epoch 6/50\n",
            "284000/284000 [==============================] - 1s 5us/step - loss: 0.0024 - acc: 0.9996 - val_loss: 3.3075e-05 - val_acc: 1.0000\n",
            "Epoch 7/50\n",
            "284000/284000 [==============================] - 1s 5us/step - loss: 0.0024 - acc: 0.9996 - val_loss: 9.4589e-05 - val_acc: 1.0000\n",
            "Epoch 8/50\n",
            "284000/284000 [==============================] - 1s 5us/step - loss: 0.0023 - acc: 0.9996 - val_loss: 1.5011e-05 - val_acc: 1.0000\n",
            "Epoch 9/50\n",
            "284000/284000 [==============================] - 1s 5us/step - loss: 0.0022 - acc: 0.9996 - val_loss: 4.6600e-05 - val_acc: 1.0000\n",
            "Epoch 10/50\n",
            "284000/284000 [==============================] - 1s 5us/step - loss: 0.0021 - acc: 0.9996 - val_loss: 2.0001e-05 - val_acc: 1.0000\n",
            "Epoch 11/50\n",
            "284000/284000 [==============================] - 1s 5us/step - loss: 0.0022 - acc: 0.9996 - val_loss: 1.8634e-04 - val_acc: 1.0000\n",
            "Epoch 12/50\n",
            "284000/284000 [==============================] - 1s 5us/step - loss: 0.0020 - acc: 0.9996 - val_loss: 6.9928e-05 - val_acc: 1.0000\n",
            "Epoch 13/50\n",
            "284000/284000 [==============================] - 1s 5us/step - loss: 0.0021 - acc: 0.9996 - val_loss: 5.7531e-05 - val_acc: 1.0000\n",
            "Epoch 14/50\n",
            "284000/284000 [==============================] - 1s 5us/step - loss: 0.0021 - acc: 0.9996 - val_loss: 7.6303e-05 - val_acc: 1.0000\n",
            "Epoch 15/50\n",
            "284000/284000 [==============================] - 1s 5us/step - loss: 0.0020 - acc: 0.9996 - val_loss: 2.0018e-05 - val_acc: 1.0000\n",
            "Epoch 16/50\n",
            "284000/284000 [==============================] - 1s 5us/step - loss: 0.0020 - acc: 0.9996 - val_loss: 9.9416e-05 - val_acc: 1.0000\n",
            "Epoch 17/50\n",
            "284000/284000 [==============================] - 1s 5us/step - loss: 0.0019 - acc: 0.9996 - val_loss: 4.9529e-05 - val_acc: 1.0000\n",
            "Epoch 18/50\n",
            "284000/284000 [==============================] - 1s 5us/step - loss: 0.0019 - acc: 0.9996 - val_loss: 6.8466e-05 - val_acc: 1.0000\n",
            "Epoch 19/50\n",
            "284000/284000 [==============================] - 1s 5us/step - loss: 0.0019 - acc: 0.9996 - val_loss: 1.6694e-05 - val_acc: 1.0000\n",
            "Epoch 20/50\n",
            "284000/284000 [==============================] - 1s 5us/step - loss: 0.0018 - acc: 0.9997 - val_loss: 8.1746e-06 - val_acc: 1.0000\n",
            "Epoch 21/50\n",
            "284000/284000 [==============================] - 1s 5us/step - loss: 0.0017 - acc: 0.9997 - val_loss: 3.3011e-05 - val_acc: 1.0000\n",
            "Epoch 22/50\n",
            "284000/284000 [==============================] - 1s 5us/step - loss: 0.0018 - acc: 0.9997 - val_loss: 4.4466e-05 - val_acc: 1.0000\n",
            "Epoch 23/50\n",
            "284000/284000 [==============================] - 1s 5us/step - loss: 0.0018 - acc: 0.9997 - val_loss: 1.9153e-05 - val_acc: 1.0000\n",
            "Epoch 24/50\n",
            "284000/284000 [==============================] - 1s 5us/step - loss: 0.0018 - acc: 0.9997 - val_loss: 1.0802e-05 - val_acc: 1.0000\n",
            "Epoch 25/50\n",
            "284000/284000 [==============================] - 1s 5us/step - loss: 0.0018 - acc: 0.9997 - val_loss: 1.6123e-05 - val_acc: 1.0000\n",
            "Epoch 26/50\n",
            "284000/284000 [==============================] - 1s 5us/step - loss: 0.0018 - acc: 0.9997 - val_loss: 2.4683e-05 - val_acc: 1.0000\n",
            "Epoch 27/50\n",
            "284000/284000 [==============================] - 1s 5us/step - loss: 0.0019 - acc: 0.9997 - val_loss: 8.8190e-05 - val_acc: 1.0000\n",
            "Epoch 28/50\n",
            "284000/284000 [==============================] - 1s 5us/step - loss: 0.0017 - acc: 0.9997 - val_loss: 1.3588e-05 - val_acc: 1.0000\n",
            "Epoch 29/50\n",
            "284000/284000 [==============================] - 1s 5us/step - loss: 0.0017 - acc: 0.9997 - val_loss: 3.3482e-05 - val_acc: 1.0000\n",
            "Epoch 30/50\n",
            "284000/284000 [==============================] - 1s 5us/step - loss: 0.0017 - acc: 0.9997 - val_loss: 5.7128e-05 - val_acc: 1.0000\n",
            "Epoch 31/50\n",
            "284000/284000 [==============================] - 1s 5us/step - loss: 0.0018 - acc: 0.9997 - val_loss: 2.4433e-06 - val_acc: 1.0000\n",
            "Epoch 32/50\n",
            "284000/284000 [==============================] - 1s 5us/step - loss: 0.0017 - acc: 0.9997 - val_loss: 1.4459e-05 - val_acc: 1.0000\n",
            "Epoch 33/50\n",
            "284000/284000 [==============================] - 1s 5us/step - loss: 0.0016 - acc: 0.9997 - val_loss: 1.4854e-05 - val_acc: 1.0000\n",
            "Epoch 34/50\n",
            "284000/284000 [==============================] - 1s 5us/step - loss: 0.0017 - acc: 0.9997 - val_loss: 1.0668e-04 - val_acc: 1.0000\n",
            "Epoch 35/50\n",
            "284000/284000 [==============================] - 1s 5us/step - loss: 0.0017 - acc: 0.9997 - val_loss: 8.0677e-05 - val_acc: 1.0000\n",
            "Epoch 36/50\n",
            "284000/284000 [==============================] - 1s 5us/step - loss: 0.0017 - acc: 0.9997 - val_loss: 1.9554e-04 - val_acc: 1.0000\n",
            "Epoch 37/50\n",
            "284000/284000 [==============================] - 1s 5us/step - loss: 0.0017 - acc: 0.9997 - val_loss: 3.2637e-05 - val_acc: 1.0000\n",
            "Epoch 38/50\n",
            "284000/284000 [==============================] - 1s 5us/step - loss: 0.0016 - acc: 0.9997 - val_loss: 7.5418e-05 - val_acc: 1.0000\n",
            "Epoch 39/50\n",
            "284000/284000 [==============================] - 1s 5us/step - loss: 0.0018 - acc: 0.9997 - val_loss: 2.0458e-04 - val_acc: 1.0000\n",
            "Epoch 40/50\n",
            "284000/284000 [==============================] - 1s 5us/step - loss: 0.0016 - acc: 0.9997 - val_loss: 6.2619e-05 - val_acc: 1.0000\n",
            "Epoch 41/50\n",
            "284000/284000 [==============================] - 1s 5us/step - loss: 0.0017 - acc: 0.9997 - val_loss: 5.5873e-05 - val_acc: 1.0000\n",
            "Epoch 42/50\n",
            "284000/284000 [==============================] - 1s 5us/step - loss: 0.0017 - acc: 0.9997 - val_loss: 2.0619e-05 - val_acc: 1.0000\n",
            "Epoch 43/50\n",
            "284000/284000 [==============================] - 1s 5us/step - loss: 0.0017 - acc: 0.9997 - val_loss: 3.4970e-05 - val_acc: 1.0000\n",
            "Epoch 44/50\n",
            "284000/284000 [==============================] - 1s 5us/step - loss: 0.0015 - acc: 0.9997 - val_loss: 6.2665e-06 - val_acc: 1.0000\n",
            "Epoch 45/50\n",
            "284000/284000 [==============================] - 1s 5us/step - loss: 0.0017 - acc: 0.9997 - val_loss: 1.8235e-06 - val_acc: 1.0000\n",
            "Epoch 46/50\n",
            "284000/284000 [==============================] - 1s 5us/step - loss: 0.0016 - acc: 0.9998 - val_loss: 3.0848e-05 - val_acc: 1.0000\n",
            "Epoch 47/50\n",
            "284000/284000 [==============================] - 1s 5us/step - loss: 0.0017 - acc: 0.9997 - val_loss: 7.8829e-06 - val_acc: 1.0000\n",
            "Epoch 48/50\n",
            "284000/284000 [==============================] - 1s 5us/step - loss: 0.0017 - acc: 0.9997 - val_loss: 2.1899e-06 - val_acc: 1.0000\n",
            "Epoch 49/50\n",
            "284000/284000 [==============================] - 1s 5us/step - loss: 0.0016 - acc: 0.9997 - val_loss: 4.0068e-07 - val_acc: 1.0000\n",
            "Epoch 50/50\n",
            "284000/284000 [==============================] - 1s 5us/step - loss: 0.0016 - acc: 0.9998 - val_loss: 9.3262e-07 - val_acc: 1.0000\n"
          ],
          "name": "stdout"
        }
      ]
    },
    {
      "cell_type": "code",
      "metadata": {
        "id": "fwu-X7JjfREx",
        "colab_type": "code",
        "colab": {
          "base_uri": "https://localhost:8080/",
          "height": 35
        },
        "outputId": "515d3706-508b-48d3-86d2-e1b23c7aa0e2"
      },
      "source": [
        "history_dic = history.history\n",
        "history_dic.keys()"
      ],
      "execution_count": 53,
      "outputs": [
        {
          "output_type": "execute_result",
          "data": {
            "text/plain": [
              "dict_keys(['val_loss', 'val_acc', 'loss', 'acc'])"
            ]
          },
          "metadata": {
            "tags": []
          },
          "execution_count": 53
        }
      ]
    },
    {
      "cell_type": "markdown",
      "metadata": {
        "id": "NyMrF_JuiWcp",
        "colab_type": "text"
      },
      "source": [
        "**Plotting training and validation loss**"
      ]
    },
    {
      "cell_type": "code",
      "metadata": {
        "id": "jRMGnx4hiUoe",
        "colab_type": "code",
        "colab": {}
      },
      "source": [
        "loss_values = history_dic['loss']\n",
        "val_loss_values = history_dic['val_loss']\n",
        "epochs = range(1,len(history_dic['acc'])+1)"
      ],
      "execution_count": 0,
      "outputs": []
    },
    {
      "cell_type": "code",
      "metadata": {
        "id": "k2SI8oywjHET",
        "colab_type": "code",
        "colab": {
          "base_uri": "https://localhost:8080/",
          "height": 295
        },
        "outputId": "40afe61a-44a0-423c-ae68-18b4fd06b86f"
      },
      "source": [
        "plt.plot(epochs, loss_values, 'bo', label = 'Training loss')\n",
        "plt.plot(epochs, val_loss_values,'b', label = 'Validation loss')\n",
        "plt.title('Training and Validation loss')\n",
        "plt.xlabel('Epochs')\n",
        "plt.xticks()\n",
        "plt.ylabel('Loss')\n",
        "plt.yticks()\n",
        "plt.legend()\n",
        "plt.show()"
      ],
      "execution_count": 55,
      "outputs": [
        {
          "output_type": "display_data",
          "data": {
            "image/png": "[encoded data removed]",
            "text/plain": [
              "<Figure size 432x288 with 1 Axes>"
            ]
          },
          "metadata": {
            "tags": []
          }
        }
      ]
    },
    {
      "cell_type": "code",
      "metadata": {
        "id": "WO3WrSEpo6Vl",
        "colab_type": "code",
        "colab": {
          "base_uri": "https://localhost:8080/",
          "height": 295
        },
        "outputId": "bf4942cf-853c-4134-b539-28ee33cdd0ca"
      },
      "source": [
        "acc_values = history_dic['acc']\n",
        "val_acc_values = history_dic['val_acc']\n",
        "plt.plot(epochs, acc_values, 'bo', label = 'Training acc')\n",
        "plt.plot(epochs, val_acc_values,'b', label = 'Validation acc')\n",
        "plt.title('Training and Validation accuracy')\n",
        "plt.xlabel('Epochs')\n",
        "plt.xticks()\n",
        "plt.ylabel('Loss')\n",
        "plt.yticks()\n",
        "plt.legend()\n",
        "plt.show()\n"
      ],
      "execution_count": 56,
      "outputs": [
        {
          "output_type": "display_data",
          "data": {
            "image/png": "[encoded data removed]",
            "text/plain": [
              "<Figure size 432x288 with 1 Axes>"
            ]
          },
          "metadata": {
            "tags": []
          }
        }
      ]
    },
    {
      "cell_type": "code",
      "metadata": {
        "id": "h3I6Yoe1p_Rg",
        "colab_type": "code",
        "colab": {
          "base_uri": "https://localhost:8080/",
          "height": 35
        },
        "outputId": "43eb1b9a-4cad-4132-b8dd-e9fd0e9e0db2"
      },
      "source": [
        "results = model.evaluate(x_test,y_test)"
      ],
      "execution_count": 57,
      "outputs": [
        {
          "output_type": "stream",
          "text": [
            "400/400 [==============================] - 0s 54us/step\n"
          ],
          "name": "stdout"
        }
      ]
    },
    {
      "cell_type": "code",
      "metadata": {
        "id": "8YZFxVsfqInw",
        "colab_type": "code",
        "colab": {
          "base_uri": "https://localhost:8080/",
          "height": 35
        },
        "outputId": "f74f5fd3-e99c-404a-a279-5d248288055d"
      },
      "source": [
        "results"
      ],
      "execution_count": 58,
      "outputs": [
        {
          "output_type": "execute_result",
          "data": {
            "text/plain": [
              "[2.2444543088226965e-05, 1.0]"
            ]
          },
          "metadata": {
            "tags": []
          },
          "execution_count": 58
        }
      ]
    },
    {
      "cell_type": "code",
      "metadata": {
        "id": "Nm--1jd0qWWf",
        "colab_type": "code",
        "colab": {
          "base_uri": "https://localhost:8080/",
          "height": 72
        },
        "outputId": "375fb5f3-9174-4874-d93d-c23f4d738142"
      },
      "source": [
        "from sklearn.linear_model import LogisticRegression\n",
        "logestic = LogisticRegression()\n",
        "logestic.fit(x_train,y_train)\n",
        "predictions_val = logestic.predict(x_valid)\n",
        "predictions_test = logestic.predict(x_test)\n",
        "score_val = logestic.score(x_valid,y_valid)\n",
        "score_test = logestic.score(x_test,y_test)"
      ],
      "execution_count": 60,
      "outputs": [
        {
          "output_type": "stream",
          "text": [
            "/usr/local/lib/python3.6/dist-packages/sklearn/linear_model/logistic.py:432: FutureWarning: Default solver will be changed to 'lbfgs' in 0.22. Specify a solver to silence this warning.\n",
            "  FutureWarning)\n"
          ],
          "name": "stderr"
        }
      ]
    },
    {
      "cell_type": "code",
      "metadata": {
        "id": "2aJAs8N7sy3X",
        "colab_type": "code",
        "colab": {
          "base_uri": "https://localhost:8080/",
          "height": 35
        },
        "outputId": "8cffc101-cc85-4ee2-ee45-e244146133cb"
      },
      "source": [
        "score_val,score_test, results[1]"
      ],
      "execution_count": 61,
      "outputs": [
        {
          "output_type": "execute_result",
          "data": {
            "text/plain": [
              "(1.0, 1.0, 1.0)"
            ]
          },
          "metadata": {
            "tags": []
          },
          "execution_count": 61
        }
      ]
    }
  ]
}